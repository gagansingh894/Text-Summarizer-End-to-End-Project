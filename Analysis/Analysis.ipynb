{
 "cells": [
  {
   "cell_type": "code",
   "execution_count": 91,
   "metadata": {},
   "outputs": [],
   "source": [
    "import spacy\n",
    "from spacy.lang.en.stop_words import STOP_WORDS\n",
    "import en_core_web_sm\n",
    "from string import punctuation "
   ]
  },
  {
   "cell_type": "code",
   "execution_count": 92,
   "metadata": {},
   "outputs": [
    {
     "output_type": "execute_result",
     "data": {
      "text/plain": "326"
     },
     "metadata": {},
     "execution_count": 92
    }
   ],
   "source": [
    "stopwords = list(STOP_WORDS)\n",
    "len(stopwords)"
   ]
  },
  {
   "cell_type": "code",
   "execution_count": 93,
   "metadata": {},
   "outputs": [],
   "source": [
    "nlp = en_core_web_sm.load()"
   ]
  },
  {
   "cell_type": "code",
   "execution_count": 94,
   "metadata": {},
   "outputs": [],
   "source": [
    "test_document = 'Machine learning (ML) is the study of computer algorithms that improve automatically through experience.[1][2] It is seen as a subset of artificial intelligence. Machine learning algorithms build a mathematical model based on sample data, known as \"training data\", in order to make predictions or decisions without being explicitly programmed to do so.[3] Machine learning algorithms are used in a wide variety of applications, such as email filtering and computer vision, where it is difficult or infeasible to develop conventional algorithms to perform the needed tasks. Machine learning is closely related to computational statistics, which focuses on making predictions using computers. The study of mathematical optimization delivers methods, theory and application domains to the field of machine learning. Data mining is a related field of study, focusing on exploratory data analysis through unsupervised learning.[5][6] In its application across business problems, machine learning is also referred to as predictive analytics.'\n"
   ]
  },
  {
   "cell_type": "code",
   "execution_count": 95,
   "metadata": {},
   "outputs": [],
   "source": [
    "docx = nlp(test_document)"
   ]
  },
  {
   "cell_type": "code",
   "execution_count": 96,
   "metadata": {
    "tags": []
   },
   "outputs": [
    {
     "output_type": "stream",
     "name": "stdout",
     "text": "Machine\nlearning\n(\nML\n)\nis\nthe\nstudy\nof\ncomputer\nalgorithms\nthat\nimprove\nautomatically\nthrough\nexperience.[1][2\n]\nIt\nis\nseen\nas\na\nsubset\nof\nartificial\nintelligence\n.\nMachine\nlearning\nalgorithms\nbuild\na\nmathematical\nmodel\nbased\non\nsample\ndata\n,\nknown\nas\n\"\ntraining\ndata\n\"\n,\nin\norder\nto\nmake\npredictions\nor\ndecisions\nwithout\nbeing\nexplicitly\nprogrammed\nto\ndo\nso.[3\n]\nMachine\nlearning\nalgorithms\nare\nused\nin\na\nwide\nvariety\nof\napplications\n,\nsuch\nas\nemail\nfiltering\nand\ncomputer\nvision\n,\nwhere\nit\nis\ndifficult\nor\ninfeasible\nto\ndevelop\nconventional\nalgorithms\nto\nperform\nthe\nneeded\ntasks\n.\nMachine\nlearning\nis\nclosely\nrelated\nto\ncomputational\nstatistics\n,\nwhich\nfocuses\non\nmaking\npredictions\nusing\ncomputers\n.\nThe\nstudy\nof\nmathematical\noptimization\ndelivers\nmethods\n,\ntheory\nand\napplication\ndomains\nto\nthe\nfield\nof\nmachine\nlearning\n.\nData\nmining\nis\na\nrelated\nfield\nof\nstudy\n,\nfocusing\non\nexploratory\ndata\nanalysis\nthrough\nunsupervised\nlearning.[5][6\n]\nIn\nits\napplication\nacross\nbusiness\nproblems\n,\nmachine\nlearning\nis\nalso\nreferred\nto\nas\npredictive\nanalytics\n.\n"
    }
   ],
   "source": [
    "for token in docx:\n",
    "    print(token.text)"
   ]
  },
  {
   "cell_type": "code",
   "execution_count": 97,
   "metadata": {},
   "outputs": [],
   "source": [
    "word_frequencies = {}\n",
    "for word in docx:\n",
    "    if word.text not in stopwords:\n",
    "        if word.text not in [' ', '  ', '   ']:\n",
    "            if word.text not in word_frequencies.keys():\n",
    "                word_frequencies[word.text] = 1\n",
    "            else:\n",
    "                word_frequencies[word.text] += 1"
   ]
  },
  {
   "cell_type": "code",
   "execution_count": 98,
   "metadata": {},
   "outputs": [
    {
     "output_type": "execute_result",
     "data": {
      "text/plain": "{'Machine': 4,\n 'learning': 6,\n '(': 1,\n 'ML': 1,\n ')': 1,\n 'study': 3,\n 'computer': 2,\n 'algorithms': 4,\n 'improve': 1,\n 'automatically': 1,\n 'experience.[1][2': 1,\n ']': 3,\n 'It': 1,\n 'seen': 1,\n 'subset': 1,\n 'artificial': 1,\n 'intelligence': 1,\n '.': 5,\n 'build': 1,\n 'mathematical': 2,\n 'model': 1,\n 'based': 1,\n 'sample': 1,\n 'data': 3,\n ',': 8,\n 'known': 1,\n '\"': 2,\n 'training': 1,\n 'order': 1,\n 'predictions': 2,\n 'decisions': 1,\n 'explicitly': 1,\n 'programmed': 1,\n 'so.[3': 1,\n 'wide': 1,\n 'variety': 1,\n 'applications': 1,\n 'email': 1,\n 'filtering': 1,\n 'vision': 1,\n 'difficult': 1,\n 'infeasible': 1,\n 'develop': 1,\n 'conventional': 1,\n 'perform': 1,\n 'needed': 1,\n 'tasks': 1,\n 'closely': 1,\n 'related': 2,\n 'computational': 1,\n 'statistics': 1,\n 'focuses': 1,\n 'making': 1,\n 'computers': 1,\n 'The': 1,\n 'optimization': 1,\n 'delivers': 1,\n 'methods': 1,\n 'theory': 1,\n 'application': 2,\n 'domains': 1,\n 'field': 2,\n 'machine': 2,\n 'Data': 1,\n 'mining': 1,\n 'focusing': 1,\n 'exploratory': 1,\n 'analysis': 1,\n 'unsupervised': 1,\n 'learning.[5][6': 1,\n 'In': 1,\n 'business': 1,\n 'problems': 1,\n 'referred': 1,\n 'predictive': 1,\n 'analytics': 1}"
     },
     "metadata": {},
     "execution_count": 98
    }
   ],
   "source": [
    "word_frequencies"
   ]
  },
  {
   "cell_type": "code",
   "execution_count": 99,
   "metadata": {},
   "outputs": [],
   "source": [
    "maximum_frequency = max(word_frequencies.values())"
   ]
  },
  {
   "cell_type": "code",
   "execution_count": 100,
   "metadata": {},
   "outputs": [
    {
     "output_type": "execute_result",
     "data": {
      "text/plain": "8"
     },
     "metadata": {},
     "execution_count": 100
    }
   ],
   "source": [
    "maximum_frequency"
   ]
  },
  {
   "cell_type": "code",
   "execution_count": 101,
   "metadata": {},
   "outputs": [
    {
     "output_type": "execute_result",
     "data": {
      "text/plain": "{'Machine': 0.5,\n 'learning': 0.75,\n '(': 0.125,\n 'ML': 0.125,\n ')': 0.125,\n 'study': 0.375,\n 'computer': 0.25,\n 'algorithms': 0.5,\n 'improve': 0.125,\n 'automatically': 0.125,\n 'experience.[1][2': 0.125,\n ']': 0.375,\n 'It': 0.125,\n 'seen': 0.125,\n 'subset': 0.125,\n 'artificial': 0.125,\n 'intelligence': 0.125,\n '.': 0.625,\n 'build': 0.125,\n 'mathematical': 0.25,\n 'model': 0.125,\n 'based': 0.125,\n 'sample': 0.125,\n 'data': 0.375,\n ',': 1.0,\n 'known': 0.125,\n '\"': 0.25,\n 'training': 0.125,\n 'order': 0.125,\n 'predictions': 0.25,\n 'decisions': 0.125,\n 'explicitly': 0.125,\n 'programmed': 0.125,\n 'so.[3': 0.125,\n 'wide': 0.125,\n 'variety': 0.125,\n 'applications': 0.125,\n 'email': 0.125,\n 'filtering': 0.125,\n 'vision': 0.125,\n 'difficult': 0.125,\n 'infeasible': 0.125,\n 'develop': 0.125,\n 'conventional': 0.125,\n 'perform': 0.125,\n 'needed': 0.125,\n 'tasks': 0.125,\n 'closely': 0.125,\n 'related': 0.25,\n 'computational': 0.125,\n 'statistics': 0.125,\n 'focuses': 0.125,\n 'making': 0.125,\n 'computers': 0.125,\n 'The': 0.125,\n 'optimization': 0.125,\n 'delivers': 0.125,\n 'methods': 0.125,\n 'theory': 0.125,\n 'application': 0.25,\n 'domains': 0.125,\n 'field': 0.25,\n 'machine': 0.25,\n 'Data': 0.125,\n 'mining': 0.125,\n 'focusing': 0.125,\n 'exploratory': 0.125,\n 'analysis': 0.125,\n 'unsupervised': 0.125,\n 'learning.[5][6': 0.125,\n 'In': 0.125,\n 'business': 0.125,\n 'problems': 0.125,\n 'referred': 0.125,\n 'predictive': 0.125,\n 'analytics': 0.125}"
     },
     "metadata": {},
     "execution_count": 101
    }
   ],
   "source": [
    "for word in word_frequencies.keys():\n",
    "    word_frequencies[word] = (word_frequencies[word]/maximum_frequency)\n",
    "word_frequencies"
   ]
  },
  {
   "cell_type": "code",
   "execution_count": 102,
   "metadata": {},
   "outputs": [
    {
     "output_type": "execute_result",
     "data": {
      "text/plain": "[Machine learning (ML) is the study of computer algorithms that improve automatically through experience.[1][2],\n It is seen as a subset of artificial intelligence.,\n Machine learning algorithms build a mathematical model based on sample data, known as \"training data\", in order to make predictions or decisions without being explicitly programmed to do so.[3] Machine learning algorithms are used in a wide variety of applications, such as email filtering and computer vision, where it is difficult or infeasible to develop conventional algorithms to perform the needed tasks.,\n Machine learning is closely related to computational statistics, which focuses on making predictions using computers.,\n The study of mathematical optimization delivers methods, theory and application domains to the field of machine learning.,\n Data mining is a related field of study, focusing on exploratory data analysis through unsupervised learning.[5][6],\n In its application across business problems, machine learning is also referred to as predictive analytics.]"
     },
     "metadata": {},
     "execution_count": 102
    }
   ],
   "source": [
    "sentance_list = [ sentence for sentence in docx.sents ]\n",
    "sentance_list"
   ]
  },
  {
   "cell_type": "code",
   "execution_count": 103,
   "metadata": {},
   "outputs": [],
   "source": [
    "sentence_scores = {}\n",
    "for sent in sentance_list:\n",
    "    for word in sent:\n",
    "        if word.text.lower() in word_frequencies.keys():\n",
    "            if len(sent.text.split(' ')) < 30:\n",
    "                if sent not in sentence_scores.keys():\n",
    "                    sentence_scores[sent] = word_frequencies[word.text.lower()]\n",
    "                else:\n",
    "                    sentence_scores[sent] += word_frequencies[word.text.lower()]"
   ]
  },
  {
   "cell_type": "code",
   "execution_count": 104,
   "metadata": {},
   "outputs": [
    {
     "output_type": "execute_result",
     "data": {
      "text/plain": "{Machine learning (ML) is the study of computer algorithms that improve automatically through experience.[1][2]: 3.125,\n It is seen as a subset of artificial intelligence.: 1.125,\n Machine learning is closely related to computational statistics, which focuses on making predictions using computers.: 3.875,\n The study of mathematical optimization delivers methods, theory and application domains to the field of machine learning.: 4.375,\n Data mining is a related field of study, focusing on exploratory data analysis through unsupervised learning.[5][6]: 3.75,\n In its application across business problems, machine learning is also referred to as predictive analytics.: 3.5}"
     },
     "metadata": {},
     "execution_count": 104
    }
   ],
   "source": [
    "sentence_scores"
   ]
  },
  {
   "cell_type": "code",
   "execution_count": 105,
   "metadata": {},
   "outputs": [],
   "source": [
    "from heapq import nlargest"
   ]
  },
  {
   "cell_type": "code",
   "execution_count": 106,
   "metadata": {},
   "outputs": [
    {
     "output_type": "execute_result",
     "data": {
      "text/plain": "[The study of mathematical optimization delivers methods, theory and application domains to the field of machine learning.,\n Machine learning is closely related to computational statistics, which focuses on making predictions using computers.,\n Data mining is a related field of study, focusing on exploratory data analysis through unsupervised learning.[5][6],\n In its application across business problems, machine learning is also referred to as predictive analytics.,\n Machine learning (ML) is the study of computer algorithms that improve automatically through experience.[1][2],\n It is seen as a subset of artificial intelligence.]"
     },
     "metadata": {},
     "execution_count": 106
    }
   ],
   "source": [
    "summarized_sentences = nlargest(7, sentence_scores, key=sentence_scores.get)\n",
    "summarized_sentences"
   ]
  },
  {
   "cell_type": "code",
   "execution_count": 107,
   "metadata": {},
   "outputs": [],
   "source": [
    "final_sent = [ w.text for w in summarized_sentences ]"
   ]
  },
  {
   "cell_type": "code",
   "execution_count": 108,
   "metadata": {},
   "outputs": [
    {
     "output_type": "execute_result",
     "data": {
      "text/plain": "'The study of mathematical optimization delivers methods, theory and application domains to the field of machine learning. Machine learning is closely related to computational statistics, which focuses on making predictions using computers. Data mining is a related field of study, focusing on exploratory data analysis through unsupervised learning.[5][6] In its application across business problems, machine learning is also referred to as predictive analytics. Machine learning (ML) is the study of computer algorithms that improve automatically through experience.[1][2] It is seen as a subset of artificial intelligence.'"
     },
     "metadata": {},
     "execution_count": 108
    }
   ],
   "source": [
    "summary = ' '.join(final_sent)\n",
    "summary"
   ]
  },
  {
   "cell_type": "code",
   "execution_count": null,
   "metadata": {},
   "outputs": [],
   "source": []
  }
 ],
 "metadata": {
  "language_info": {
   "codemirror_mode": {
    "name": "ipython",
    "version": 3
   },
   "file_extension": ".py",
   "mimetype": "text/x-python",
   "name": "python",
   "nbconvert_exporter": "python",
   "pygments_lexer": "ipython3",
   "version": "3.6.9-final"
  },
  "orig_nbformat": 2,
  "kernelspec": {
   "name": "python36964bite6955f2e74d64707b01ddae88c9da161",
   "display_name": "Python 3.6.9 64-bit"
  }
 },
 "nbformat": 4,
 "nbformat_minor": 2
}